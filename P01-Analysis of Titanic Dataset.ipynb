{
 "cells": [
  {
   "cell_type": "markdown",
   "id": "1839360f",
   "metadata": {},
   "source": [
    "# ANALYSIS OF TITANIC DATASET USING PANDAS"
   ]
  },
  {
   "cell_type": "markdown",
   "id": "78431685",
   "metadata": {},
   "source": [
    "# Introduction"
   ]
  },
  {
   "cell_type": "markdown",
   "id": "32aacd5b",
   "metadata": {},
   "source": [
    "#### The Titanic had sunk on April 15, 1912 during her maiden voyage. After colliding with an iceberg. It was one of the most dramatic events of the twentieth century. 1502 of its 2224 passengers died. The data set investigated in the following sections contains detailed information about 891 passengers."
   ]
  },
  {
   "cell_type": "markdown",
   "id": "5303bb68",
   "metadata": {},
   "source": [
    "### The dataset consists of the following parameters regarding to the passengers"
   ]
  },
  {
   "cell_type": "markdown",
   "id": "84be3862",
   "metadata": {},
   "source": [
    "- class: Passenger class (1 = 1st; 2 = 2nd and 3 = 3rd)\n",
    "- survival: A Boolean indicating whether the passenger survived or not (0 = No; 1 = Yes);\n",
    "\n",
    "- name: A field rich in information as it contains title and family names\n",
    "- sex: male/female passengers\n",
    "- age: Age, a significant portion of this values are missing\n",
    "- sibsp: Number of siblings/spouses on the ship.\n",
    "- parch: Number of parents/children on the ship.\n",
    "- ticket: Ticket number of the passengers.\n",
    "- fare: Passenger fare (in British Pound).\n",
    "- cabin: Does the location of the cabin influence chances of survival?\n",
    "- embarked: Port of embarkation (C = Cherbourg; Q = Queenstown; S = Southampton)\n",
    "- boat: Lifeboat, many missing values are here.\n",
    "- body: Body Identification Number\n",
    "- home.dest: Home/destination\n"
   ]
  },
  {
   "cell_type": "markdown",
   "id": "6037f793",
   "metadata": {},
   "source": [
    "## $\\text{Analysis of the Data using Pandas}$ \n"
   ]
  },
  {
   "cell_type": "code",
   "execution_count": 1,
   "id": "0431820a",
   "metadata": {},
   "outputs": [],
   "source": [
    "import pandas as pd"
   ]
  },
  {
   "cell_type": "markdown",
   "id": "200de305",
   "metadata": {},
   "source": [
    "#### First of all importing the Dataset with read_csv"
   ]
  },
  {
   "cell_type": "code",
   "execution_count": 2,
   "id": "aaa16e8f",
   "metadata": {},
   "outputs": [],
   "source": [
    "ds= pd.read_csv(\"train.csv\")"
   ]
  },
  {
   "cell_type": "code",
   "execution_count": 3,
   "id": "4bad1c47",
   "metadata": {
    "scrolled": true
   },
   "outputs": [
    {
     "data": {
      "text/html": [
       "<div>\n",
       "<style scoped>\n",
       "    .dataframe tbody tr th:only-of-type {\n",
       "        vertical-align: middle;\n",
       "    }\n",
       "\n",
       "    .dataframe tbody tr th {\n",
       "        vertical-align: top;\n",
       "    }\n",
       "\n",
       "    .dataframe thead th {\n",
       "        text-align: right;\n",
       "    }\n",
       "</style>\n",
       "<table border=\"1\" class=\"dataframe\">\n",
       "  <thead>\n",
       "    <tr style=\"text-align: right;\">\n",
       "      <th></th>\n",
       "      <th>PassengerId</th>\n",
       "      <th>Survived</th>\n",
       "      <th>Pclass</th>\n",
       "      <th>Name</th>\n",
       "      <th>Sex</th>\n",
       "      <th>Age</th>\n",
       "      <th>SibSp</th>\n",
       "      <th>Parch</th>\n",
       "      <th>Ticket</th>\n",
       "      <th>Fare</th>\n",
       "      <th>Cabin</th>\n",
       "      <th>Embarked</th>\n",
       "    </tr>\n",
       "  </thead>\n",
       "  <tbody>\n",
       "    <tr>\n",
       "      <th>0</th>\n",
       "      <td>1</td>\n",
       "      <td>0</td>\n",
       "      <td>3</td>\n",
       "      <td>Braund, Mr. Owen Harris</td>\n",
       "      <td>male</td>\n",
       "      <td>22.0</td>\n",
       "      <td>1</td>\n",
       "      <td>0</td>\n",
       "      <td>A/5 21171</td>\n",
       "      <td>7.2500</td>\n",
       "      <td>NaN</td>\n",
       "      <td>S</td>\n",
       "    </tr>\n",
       "    <tr>\n",
       "      <th>1</th>\n",
       "      <td>2</td>\n",
       "      <td>1</td>\n",
       "      <td>1</td>\n",
       "      <td>Cumings, Mrs. John Bradley (Florence Briggs Th...</td>\n",
       "      <td>female</td>\n",
       "      <td>38.0</td>\n",
       "      <td>1</td>\n",
       "      <td>0</td>\n",
       "      <td>PC 17599</td>\n",
       "      <td>71.2833</td>\n",
       "      <td>C85</td>\n",
       "      <td>C</td>\n",
       "    </tr>\n",
       "    <tr>\n",
       "      <th>2</th>\n",
       "      <td>3</td>\n",
       "      <td>1</td>\n",
       "      <td>3</td>\n",
       "      <td>Heikkinen, Miss. Laina</td>\n",
       "      <td>female</td>\n",
       "      <td>26.0</td>\n",
       "      <td>0</td>\n",
       "      <td>0</td>\n",
       "      <td>STON/O2. 3101282</td>\n",
       "      <td>7.9250</td>\n",
       "      <td>NaN</td>\n",
       "      <td>S</td>\n",
       "    </tr>\n",
       "    <tr>\n",
       "      <th>3</th>\n",
       "      <td>4</td>\n",
       "      <td>1</td>\n",
       "      <td>1</td>\n",
       "      <td>Futrelle, Mrs. Jacques Heath (Lily May Peel)</td>\n",
       "      <td>female</td>\n",
       "      <td>35.0</td>\n",
       "      <td>1</td>\n",
       "      <td>0</td>\n",
       "      <td>113803</td>\n",
       "      <td>53.1000</td>\n",
       "      <td>C123</td>\n",
       "      <td>S</td>\n",
       "    </tr>\n",
       "    <tr>\n",
       "      <th>4</th>\n",
       "      <td>5</td>\n",
       "      <td>0</td>\n",
       "      <td>3</td>\n",
       "      <td>Allen, Mr. William Henry</td>\n",
       "      <td>male</td>\n",
       "      <td>35.0</td>\n",
       "      <td>0</td>\n",
       "      <td>0</td>\n",
       "      <td>373450</td>\n",
       "      <td>8.0500</td>\n",
       "      <td>NaN</td>\n",
       "      <td>S</td>\n",
       "    </tr>\n",
       "  </tbody>\n",
       "</table>\n",
       "</div>"
      ],
      "text/plain": [
       "   PassengerId  Survived  Pclass  \\\n",
       "0            1         0       3   \n",
       "1            2         1       1   \n",
       "2            3         1       3   \n",
       "3            4         1       1   \n",
       "4            5         0       3   \n",
       "\n",
       "                                                Name     Sex   Age  SibSp  \\\n",
       "0                            Braund, Mr. Owen Harris    male  22.0      1   \n",
       "1  Cumings, Mrs. John Bradley (Florence Briggs Th...  female  38.0      1   \n",
       "2                             Heikkinen, Miss. Laina  female  26.0      0   \n",
       "3       Futrelle, Mrs. Jacques Heath (Lily May Peel)  female  35.0      1   \n",
       "4                           Allen, Mr. William Henry    male  35.0      0   \n",
       "\n",
       "   Parch            Ticket     Fare Cabin Embarked  \n",
       "0      0         A/5 21171   7.2500   NaN        S  \n",
       "1      0          PC 17599  71.2833   C85        C  \n",
       "2      0  STON/O2. 3101282   7.9250   NaN        S  \n",
       "3      0            113803  53.1000  C123        S  \n",
       "4      0            373450   8.0500   NaN        S  "
      ]
     },
     "execution_count": 3,
     "metadata": {},
     "output_type": "execute_result"
    }
   ],
   "source": [
    "ds.head()"
   ]
  },
  {
   "cell_type": "markdown",
   "id": "66f01484",
   "metadata": {},
   "source": [
    "## Now getting  informations from the Dataset using info() function. "
   ]
  },
  {
   "cell_type": "code",
   "execution_count": 4,
   "id": "77aee852",
   "metadata": {},
   "outputs": [
    {
     "name": "stdout",
     "output_type": "stream",
     "text": [
      "<class 'pandas.core.frame.DataFrame'>\n",
      "RangeIndex: 891 entries, 0 to 890\n",
      "Data columns (total 12 columns):\n",
      " #   Column       Non-Null Count  Dtype  \n",
      "---  ------       --------------  -----  \n",
      " 0   PassengerId  891 non-null    int64  \n",
      " 1   Survived     891 non-null    int64  \n",
      " 2   Pclass       891 non-null    int64  \n",
      " 3   Name         891 non-null    object \n",
      " 4   Sex          891 non-null    object \n",
      " 5   Age          714 non-null    float64\n",
      " 6   SibSp        891 non-null    int64  \n",
      " 7   Parch        891 non-null    int64  \n",
      " 8   Ticket       891 non-null    object \n",
      " 9   Fare         891 non-null    float64\n",
      " 10  Cabin        204 non-null    object \n",
      " 11  Embarked     889 non-null    object \n",
      "dtypes: float64(2), int64(5), object(5)\n",
      "memory usage: 83.7+ KB\n"
     ]
    }
   ],
   "source": [
    "ds.info()"
   ]
  },
  {
   "cell_type": "markdown",
   "id": "d2bee247",
   "metadata": {},
   "source": [
    "## Now Getting the Numerical Dataset using describe function (.describe())"
   ]
  },
  {
   "cell_type": "code",
   "execution_count": 5,
   "id": "65424da6",
   "metadata": {
    "scrolled": true
   },
   "outputs": [
    {
     "data": {
      "text/html": [
       "<div>\n",
       "<style scoped>\n",
       "    .dataframe tbody tr th:only-of-type {\n",
       "        vertical-align: middle;\n",
       "    }\n",
       "\n",
       "    .dataframe tbody tr th {\n",
       "        vertical-align: top;\n",
       "    }\n",
       "\n",
       "    .dataframe thead th {\n",
       "        text-align: right;\n",
       "    }\n",
       "</style>\n",
       "<table border=\"1\" class=\"dataframe\">\n",
       "  <thead>\n",
       "    <tr style=\"text-align: right;\">\n",
       "      <th></th>\n",
       "      <th>PassengerId</th>\n",
       "      <th>Survived</th>\n",
       "      <th>Pclass</th>\n",
       "      <th>Age</th>\n",
       "      <th>SibSp</th>\n",
       "      <th>Parch</th>\n",
       "      <th>Fare</th>\n",
       "    </tr>\n",
       "  </thead>\n",
       "  <tbody>\n",
       "    <tr>\n",
       "      <th>count</th>\n",
       "      <td>891.000000</td>\n",
       "      <td>891.000000</td>\n",
       "      <td>891.000000</td>\n",
       "      <td>714.000000</td>\n",
       "      <td>891.000000</td>\n",
       "      <td>891.000000</td>\n",
       "      <td>891.000000</td>\n",
       "    </tr>\n",
       "    <tr>\n",
       "      <th>mean</th>\n",
       "      <td>446.000000</td>\n",
       "      <td>0.383838</td>\n",
       "      <td>2.308642</td>\n",
       "      <td>29.699118</td>\n",
       "      <td>0.523008</td>\n",
       "      <td>0.381594</td>\n",
       "      <td>32.204208</td>\n",
       "    </tr>\n",
       "    <tr>\n",
       "      <th>std</th>\n",
       "      <td>257.353842</td>\n",
       "      <td>0.486592</td>\n",
       "      <td>0.836071</td>\n",
       "      <td>14.526497</td>\n",
       "      <td>1.102743</td>\n",
       "      <td>0.806057</td>\n",
       "      <td>49.693429</td>\n",
       "    </tr>\n",
       "    <tr>\n",
       "      <th>min</th>\n",
       "      <td>1.000000</td>\n",
       "      <td>0.000000</td>\n",
       "      <td>1.000000</td>\n",
       "      <td>0.420000</td>\n",
       "      <td>0.000000</td>\n",
       "      <td>0.000000</td>\n",
       "      <td>0.000000</td>\n",
       "    </tr>\n",
       "    <tr>\n",
       "      <th>25%</th>\n",
       "      <td>223.500000</td>\n",
       "      <td>0.000000</td>\n",
       "      <td>2.000000</td>\n",
       "      <td>20.125000</td>\n",
       "      <td>0.000000</td>\n",
       "      <td>0.000000</td>\n",
       "      <td>7.910400</td>\n",
       "    </tr>\n",
       "    <tr>\n",
       "      <th>50%</th>\n",
       "      <td>446.000000</td>\n",
       "      <td>0.000000</td>\n",
       "      <td>3.000000</td>\n",
       "      <td>28.000000</td>\n",
       "      <td>0.000000</td>\n",
       "      <td>0.000000</td>\n",
       "      <td>14.454200</td>\n",
       "    </tr>\n",
       "    <tr>\n",
       "      <th>75%</th>\n",
       "      <td>668.500000</td>\n",
       "      <td>1.000000</td>\n",
       "      <td>3.000000</td>\n",
       "      <td>38.000000</td>\n",
       "      <td>1.000000</td>\n",
       "      <td>0.000000</td>\n",
       "      <td>31.000000</td>\n",
       "    </tr>\n",
       "    <tr>\n",
       "      <th>max</th>\n",
       "      <td>891.000000</td>\n",
       "      <td>1.000000</td>\n",
       "      <td>3.000000</td>\n",
       "      <td>80.000000</td>\n",
       "      <td>8.000000</td>\n",
       "      <td>6.000000</td>\n",
       "      <td>512.329200</td>\n",
       "    </tr>\n",
       "  </tbody>\n",
       "</table>\n",
       "</div>"
      ],
      "text/plain": [
       "       PassengerId    Survived      Pclass         Age       SibSp  \\\n",
       "count   891.000000  891.000000  891.000000  714.000000  891.000000   \n",
       "mean    446.000000    0.383838    2.308642   29.699118    0.523008   \n",
       "std     257.353842    0.486592    0.836071   14.526497    1.102743   \n",
       "min       1.000000    0.000000    1.000000    0.420000    0.000000   \n",
       "25%     223.500000    0.000000    2.000000   20.125000    0.000000   \n",
       "50%     446.000000    0.000000    3.000000   28.000000    0.000000   \n",
       "75%     668.500000    1.000000    3.000000   38.000000    1.000000   \n",
       "max     891.000000    1.000000    3.000000   80.000000    8.000000   \n",
       "\n",
       "            Parch        Fare  \n",
       "count  891.000000  891.000000  \n",
       "mean     0.381594   32.204208  \n",
       "std      0.806057   49.693429  \n",
       "min      0.000000    0.000000  \n",
       "25%      0.000000    7.910400  \n",
       "50%      0.000000   14.454200  \n",
       "75%      0.000000   31.000000  \n",
       "max      6.000000  512.329200  "
      ]
     },
     "execution_count": 5,
     "metadata": {},
     "output_type": "execute_result"
    }
   ],
   "source": [
    "ds.describe()"
   ]
  },
  {
   "cell_type": "code",
   "execution_count": 6,
   "id": "d220c543",
   "metadata": {},
   "outputs": [
    {
     "data": {
      "text/plain": [
       "count    714.000000\n",
       "mean      29.699118\n",
       "std       14.526497\n",
       "min        0.420000\n",
       "25%       20.125000\n",
       "50%       28.000000\n",
       "75%       38.000000\n",
       "max       80.000000\n",
       "Name: Age, dtype: float64"
      ]
     },
     "execution_count": 6,
     "metadata": {},
     "output_type": "execute_result"
    }
   ],
   "source": [
    "ds.Age.describe()"
   ]
  },
  {
   "cell_type": "code",
   "execution_count": null,
   "id": "0f69fa30",
   "metadata": {},
   "outputs": [],
   "source": []
  },
  {
   "cell_type": "markdown",
   "id": "0543e3a4",
   "metadata": {},
   "source": [
    "## Summary of the catagorical Data "
   ]
  },
  {
   "cell_type": "code",
   "execution_count": 7,
   "id": "a96eef9c",
   "metadata": {},
   "outputs": [
    {
     "name": "stdout",
     "output_type": "stream",
     "text": [
      "                              Name   Sex Ticket Cabin Embarked\n",
      "count                          891   891    891   204      889\n",
      "unique                         891     2    681   147        3\n",
      "top     Navratil, Master. Michel M  male   1601    G6        S\n",
      "freq                             1   577      7     4      644\n"
     ]
    }
   ],
   "source": [
    "print(ds.describe(include=['O']))"
   ]
  },
  {
   "cell_type": "markdown",
   "id": "50a941e5",
   "metadata": {},
   "source": [
    "## Finding the Null values"
   ]
  },
  {
   "cell_type": "code",
   "execution_count": 8,
   "id": "e4a55d50",
   "metadata": {},
   "outputs": [
    {
     "data": {
      "text/plain": [
       "PassengerId      0\n",
       "Survived         0\n",
       "Pclass           0\n",
       "Name             0\n",
       "Sex              0\n",
       "Age            177\n",
       "SibSp            0\n",
       "Parch            0\n",
       "Ticket           0\n",
       "Fare             0\n",
       "Cabin          687\n",
       "Embarked         2\n",
       "dtype: int64"
      ]
     },
     "execution_count": 8,
     "metadata": {},
     "output_type": "execute_result"
    }
   ],
   "source": [
    "ds.isnull().sum()"
   ]
  },
  {
   "cell_type": "markdown",
   "id": "566ccc83",
   "metadata": {},
   "source": [
    "## Droping the unnecessary columns."
   ]
  },
  {
   "cell_type": "markdown",
   "id": "a4a1539f",
   "metadata": {},
   "source": [
    "The Dataset contains information which are not useful here, are passengerId, ticket and Cabin. so droping them.\n"
   ]
  },
  {
   "cell_type": "code",
   "execution_count": 9,
   "id": "b61a1acd",
   "metadata": {},
   "outputs": [
    {
     "name": "stdout",
     "output_type": "stream",
     "text": [
      "['Survived' 'Pclass' 'Name' 'Sex' 'Age' 'SibSp' 'Parch' 'Fare' 'Embarked']\n"
     ]
    }
   ],
   "source": [
    "ds.drop(['PassengerId', 'Ticket','Cabin'], axis=1,  inplace= True)\n",
    "\n",
    "print(ds.columns.values)"
   ]
  },
  {
   "cell_type": "markdown",
   "id": "699ea56b",
   "metadata": {},
   "source": [
    "### Again checking the Null values"
   ]
  },
  {
   "cell_type": "code",
   "execution_count": 10,
   "id": "aa192721",
   "metadata": {},
   "outputs": [
    {
     "data": {
      "text/plain": [
       "Survived      0\n",
       "Pclass        0\n",
       "Name          0\n",
       "Sex           0\n",
       "Age         177\n",
       "SibSp         0\n",
       "Parch         0\n",
       "Fare          0\n",
       "Embarked      2\n",
       "dtype: int64"
      ]
     },
     "execution_count": 10,
     "metadata": {},
     "output_type": "execute_result"
    }
   ],
   "source": [
    "ds.isnull().sum()"
   ]
  },
  {
   "cell_type": "markdown",
   "id": "d70b19a3",
   "metadata": {},
   "source": [
    "Here the targeted values remained"
   ]
  },
  {
   "cell_type": "markdown",
   "id": "4f9fd114",
   "metadata": {},
   "source": [
    "### Now Cleaning the Data.\n",
    "- To avoid the floating points rounding up them to the closest integer using ceil() Function"
   ]
  },
  {
   "cell_type": "code",
   "execution_count": 11,
   "id": "097747a0",
   "metadata": {},
   "outputs": [
    {
     "data": {
      "text/plain": [
       "0      22.0\n",
       "1      38.0\n",
       "2      26.0\n",
       "3      35.0\n",
       "4      35.0\n",
       "       ... \n",
       "886    27.0\n",
       "887    19.0\n",
       "888     NaN\n",
       "889    26.0\n",
       "890    32.0\n",
       "Name: Age, Length: 891, dtype: float64"
      ]
     },
     "execution_count": 11,
     "metadata": {},
     "output_type": "execute_result"
    }
   ],
   "source": [
    "ds['Age']"
   ]
  },
  {
   "cell_type": "code",
   "execution_count": 12,
   "id": "8f26daad",
   "metadata": {},
   "outputs": [],
   "source": [
    "import numpy as np"
   ]
  },
  {
   "cell_type": "code",
   "execution_count": 13,
   "id": "49d5e8ec",
   "metadata": {
    "scrolled": true
   },
   "outputs": [],
   "source": [
    "ds[\"Age\"]= np.ceil(ds[\"Age\"])"
   ]
  },
  {
   "cell_type": "code",
   "execution_count": 14,
   "id": "758f2d59",
   "metadata": {},
   "outputs": [
    {
     "data": {
      "text/plain": [
       "0      22.0\n",
       "1      38.0\n",
       "2      26.0\n",
       "3      35.0\n",
       "4      35.0\n",
       "       ... \n",
       "886    27.0\n",
       "887    19.0\n",
       "888     NaN\n",
       "889    26.0\n",
       "890    32.0\n",
       "Name: Age, Length: 891, dtype: float64"
      ]
     },
     "execution_count": 14,
     "metadata": {},
     "output_type": "execute_result"
    }
   ],
   "source": [
    "ds[\"Age\"]"
   ]
  },
  {
   "cell_type": "markdown",
   "id": "a9ce44e6",
   "metadata": {},
   "source": [
    "## Now Filling missing values of the Data"
   ]
  },
  {
   "cell_type": "code",
   "execution_count": 15,
   "id": "80d59dd0",
   "metadata": {},
   "outputs": [
    {
     "data": {
      "text/plain": [
       "Survived      0\n",
       "Pclass        0\n",
       "Name          0\n",
       "Sex           0\n",
       "Age         177\n",
       "SibSp         0\n",
       "Parch         0\n",
       "Fare          0\n",
       "Embarked      2\n",
       "dtype: int64"
      ]
     },
     "execution_count": 15,
     "metadata": {},
     "output_type": "execute_result"
    }
   ],
   "source": [
    "ds.isnull().sum()"
   ]
  },
  {
   "cell_type": "markdown",
   "id": "93a45a00",
   "metadata": {},
   "source": [
    "##### There are 177 missing values in age. So, by filling those issing values by mean value of ages. "
   ]
  },
  {
   "cell_type": "markdown",
   "id": "8d9870eb",
   "metadata": {},
   "source": [
    "Taking the mean value to filling the missing cells of Age. "
   ]
  },
  {
   "cell_type": "code",
   "execution_count": 16,
   "id": "7a29507d",
   "metadata": {},
   "outputs": [
    {
     "data": {
      "text/plain": [
       "29.714285714285715"
      ]
     },
     "execution_count": 16,
     "metadata": {},
     "output_type": "execute_result"
    }
   ],
   "source": [
    "age_mean = ds['Age'].mean()\n",
    "age_mean"
   ]
  },
  {
   "cell_type": "code",
   "execution_count": 17,
   "id": "478fdf4a",
   "metadata": {},
   "outputs": [],
   "source": [
    "ds.fillna(ds.mean(), inplace = True)"
   ]
  },
  {
   "cell_type": "code",
   "execution_count": 18,
   "id": "cca24c87",
   "metadata": {},
   "outputs": [
    {
     "data": {
      "text/plain": [
       "Survived    0\n",
       "Pclass      0\n",
       "Name        0\n",
       "Sex         0\n",
       "Age         0\n",
       "SibSp       0\n",
       "Parch       0\n",
       "Fare        0\n",
       "Embarked    2\n",
       "dtype: int64"
      ]
     },
     "execution_count": 18,
     "metadata": {},
     "output_type": "execute_result"
    }
   ],
   "source": [
    "ds.isnull().sum()"
   ]
  },
  {
   "cell_type": "markdown",
   "id": "692b7165",
   "metadata": {},
   "source": [
    "##### Check if all values have been replaced"
   ]
  },
  {
   "cell_type": "code",
   "execution_count": 19,
   "id": "46190622",
   "metadata": {},
   "outputs": [
    {
     "name": "stdout",
     "output_type": "stream",
     "text": [
      "Remaining NaN values: 0\n"
     ]
    }
   ],
   "source": [
    "print(\"Remaining NaN values: {}\".format(ds['Age'].isnull().sum()))"
   ]
  },
  {
   "cell_type": "code",
   "execution_count": 20,
   "id": "edd6cab2",
   "metadata": {},
   "outputs": [],
   "source": [
    "\n",
    "ds.fillna(ds.mean(), inplace = True)"
   ]
  },
  {
   "cell_type": "code",
   "execution_count": 21,
   "id": "98291777",
   "metadata": {},
   "outputs": [
    {
     "data": {
      "text/plain": [
       "Survived    0\n",
       "Pclass      0\n",
       "Name        0\n",
       "Sex         0\n",
       "Age         0\n",
       "SibSp       0\n",
       "Parch       0\n",
       "Fare        0\n",
       "Embarked    2\n",
       "dtype: int64"
      ]
     },
     "execution_count": 21,
     "metadata": {},
     "output_type": "execute_result"
    }
   ],
   "source": [
    "ds.isnull().sum()"
   ]
  },
  {
   "cell_type": "markdown",
   "id": "d642c308",
   "metadata": {},
   "source": [
    "#####  The embarked column misses only 2 values. To replace these, we use the most common Embarked which is by far (about 72 %) Southampton."
   ]
  },
  {
   "cell_type": "markdown",
   "id": "b16bf923",
   "metadata": {},
   "source": [
    "###### Replacing the missing value by alphabet 's'"
   ]
  },
  {
   "cell_type": "code",
   "execution_count": 22,
   "id": "7edf9572",
   "metadata": {},
   "outputs": [],
   "source": [
    "ds['Embarked'] = ds['Embarked'].fillna('s')"
   ]
  },
  {
   "cell_type": "code",
   "execution_count": 23,
   "id": "28968611",
   "metadata": {},
   "outputs": [
    {
     "data": {
      "text/plain": [
       "Survived    0\n",
       "Pclass      0\n",
       "Name        0\n",
       "Sex         0\n",
       "Age         0\n",
       "SibSp       0\n",
       "Parch       0\n",
       "Fare        0\n",
       "Embarked    0\n",
       "dtype: int64"
      ]
     },
     "execution_count": 23,
     "metadata": {},
     "output_type": "execute_result"
    }
   ],
   "source": [
    "ds.isnull().sum()"
   ]
  },
  {
   "cell_type": "markdown",
   "id": "e5f43727",
   "metadata": {},
   "source": [
    "Now the missing values are filled"
   ]
  },
  {
   "cell_type": "markdown",
   "id": "8187e4e8",
   "metadata": {},
   "source": [
    "## Selection of Columns"
   ]
  },
  {
   "cell_type": "code",
   "execution_count": 44,
   "id": "f081cd06",
   "metadata": {},
   "outputs": [],
   "source": [
    "survived = ds.Survived\n",
    "sex = ds.Sex\n",
    "clss = ds.Pclass\n",
    "sibsp = ds.SibSp\n",
    "age = ds.Age\n",
    "listt = list(zip(survived,sex,clss,sibsp,age))\n",
    "columns = ['Survived', 'Sex', 'Pclass', 'SibSp', 'Age']\n",
    "ds_list= pd.DataFrame(listt, columns= columns)\n",
    "ds_list.isnull().sum()\n",
    "ds_list.fillna(ds_list.mean(), inplace = True)"
   ]
  },
  {
   "cell_type": "code",
   "execution_count": 45,
   "id": "a707c6d7",
   "metadata": {},
   "outputs": [
    {
     "data": {
      "text/html": [
       "<div>\n",
       "<style scoped>\n",
       "    .dataframe tbody tr th:only-of-type {\n",
       "        vertical-align: middle;\n",
       "    }\n",
       "\n",
       "    .dataframe tbody tr th {\n",
       "        vertical-align: top;\n",
       "    }\n",
       "\n",
       "    .dataframe thead th {\n",
       "        text-align: right;\n",
       "    }\n",
       "</style>\n",
       "<table border=\"1\" class=\"dataframe\">\n",
       "  <thead>\n",
       "    <tr style=\"text-align: right;\">\n",
       "      <th></th>\n",
       "      <th>Survived</th>\n",
       "      <th>Sex</th>\n",
       "      <th>Pclass</th>\n",
       "      <th>SibSp</th>\n",
       "      <th>Age</th>\n",
       "    </tr>\n",
       "  </thead>\n",
       "  <tbody>\n",
       "    <tr>\n",
       "      <th>0</th>\n",
       "      <td>0</td>\n",
       "      <td>male</td>\n",
       "      <td>3</td>\n",
       "      <td>1</td>\n",
       "      <td>22.000000</td>\n",
       "    </tr>\n",
       "    <tr>\n",
       "      <th>1</th>\n",
       "      <td>1</td>\n",
       "      <td>female</td>\n",
       "      <td>1</td>\n",
       "      <td>1</td>\n",
       "      <td>38.000000</td>\n",
       "    </tr>\n",
       "    <tr>\n",
       "      <th>2</th>\n",
       "      <td>1</td>\n",
       "      <td>female</td>\n",
       "      <td>3</td>\n",
       "      <td>0</td>\n",
       "      <td>26.000000</td>\n",
       "    </tr>\n",
       "    <tr>\n",
       "      <th>3</th>\n",
       "      <td>1</td>\n",
       "      <td>female</td>\n",
       "      <td>1</td>\n",
       "      <td>1</td>\n",
       "      <td>35.000000</td>\n",
       "    </tr>\n",
       "    <tr>\n",
       "      <th>4</th>\n",
       "      <td>0</td>\n",
       "      <td>male</td>\n",
       "      <td>3</td>\n",
       "      <td>0</td>\n",
       "      <td>35.000000</td>\n",
       "    </tr>\n",
       "    <tr>\n",
       "      <th>...</th>\n",
       "      <td>...</td>\n",
       "      <td>...</td>\n",
       "      <td>...</td>\n",
       "      <td>...</td>\n",
       "      <td>...</td>\n",
       "    </tr>\n",
       "    <tr>\n",
       "      <th>886</th>\n",
       "      <td>0</td>\n",
       "      <td>male</td>\n",
       "      <td>2</td>\n",
       "      <td>0</td>\n",
       "      <td>27.000000</td>\n",
       "    </tr>\n",
       "    <tr>\n",
       "      <th>887</th>\n",
       "      <td>1</td>\n",
       "      <td>female</td>\n",
       "      <td>1</td>\n",
       "      <td>0</td>\n",
       "      <td>19.000000</td>\n",
       "    </tr>\n",
       "    <tr>\n",
       "      <th>888</th>\n",
       "      <td>0</td>\n",
       "      <td>female</td>\n",
       "      <td>3</td>\n",
       "      <td>1</td>\n",
       "      <td>29.714286</td>\n",
       "    </tr>\n",
       "    <tr>\n",
       "      <th>889</th>\n",
       "      <td>1</td>\n",
       "      <td>male</td>\n",
       "      <td>1</td>\n",
       "      <td>0</td>\n",
       "      <td>26.000000</td>\n",
       "    </tr>\n",
       "    <tr>\n",
       "      <th>890</th>\n",
       "      <td>0</td>\n",
       "      <td>male</td>\n",
       "      <td>3</td>\n",
       "      <td>0</td>\n",
       "      <td>32.000000</td>\n",
       "    </tr>\n",
       "  </tbody>\n",
       "</table>\n",
       "<p>891 rows × 5 columns</p>\n",
       "</div>"
      ],
      "text/plain": [
       "     Survived     Sex  Pclass  SibSp        Age\n",
       "0           0    male       3      1  22.000000\n",
       "1           1  female       1      1  38.000000\n",
       "2           1  female       3      0  26.000000\n",
       "3           1  female       1      1  35.000000\n",
       "4           0    male       3      0  35.000000\n",
       "..        ...     ...     ...    ...        ...\n",
       "886         0    male       2      0  27.000000\n",
       "887         1  female       1      0  19.000000\n",
       "888         0  female       3      1  29.714286\n",
       "889         1    male       1      0  26.000000\n",
       "890         0    male       3      0  32.000000\n",
       "\n",
       "[891 rows x 5 columns]"
      ]
     },
     "execution_count": 45,
     "metadata": {},
     "output_type": "execute_result"
    }
   ],
   "source": [
    "ds_list"
   ]
  },
  {
   "cell_type": "code",
   "execution_count": 46,
   "id": "c7d4d9b0",
   "metadata": {},
   "outputs": [
    {
     "data": {
      "text/html": [
       "<div>\n",
       "<style scoped>\n",
       "    .dataframe tbody tr th:only-of-type {\n",
       "        vertical-align: middle;\n",
       "    }\n",
       "\n",
       "    .dataframe tbody tr th {\n",
       "        vertical-align: top;\n",
       "    }\n",
       "\n",
       "    .dataframe thead th {\n",
       "        text-align: right;\n",
       "    }\n",
       "</style>\n",
       "<table border=\"1\" class=\"dataframe\">\n",
       "  <thead>\n",
       "    <tr style=\"text-align: right;\">\n",
       "      <th></th>\n",
       "      <th>Survived</th>\n",
       "      <th>Sex</th>\n",
       "      <th>Pclass</th>\n",
       "      <th>SibSp</th>\n",
       "      <th>Age</th>\n",
       "    </tr>\n",
       "  </thead>\n",
       "  <tbody>\n",
       "    <tr>\n",
       "      <th>0</th>\n",
       "      <td>0</td>\n",
       "      <td>male</td>\n",
       "      <td>3</td>\n",
       "      <td>1</td>\n",
       "      <td>22.0</td>\n",
       "    </tr>\n",
       "    <tr>\n",
       "      <th>1</th>\n",
       "      <td>1</td>\n",
       "      <td>female</td>\n",
       "      <td>1</td>\n",
       "      <td>1</td>\n",
       "      <td>38.0</td>\n",
       "    </tr>\n",
       "    <tr>\n",
       "      <th>2</th>\n",
       "      <td>1</td>\n",
       "      <td>female</td>\n",
       "      <td>3</td>\n",
       "      <td>0</td>\n",
       "      <td>26.0</td>\n",
       "    </tr>\n",
       "    <tr>\n",
       "      <th>3</th>\n",
       "      <td>1</td>\n",
       "      <td>female</td>\n",
       "      <td>1</td>\n",
       "      <td>1</td>\n",
       "      <td>35.0</td>\n",
       "    </tr>\n",
       "    <tr>\n",
       "      <th>4</th>\n",
       "      <td>0</td>\n",
       "      <td>male</td>\n",
       "      <td>3</td>\n",
       "      <td>0</td>\n",
       "      <td>35.0</td>\n",
       "    </tr>\n",
       "    <tr>\n",
       "      <th>...</th>\n",
       "      <td>...</td>\n",
       "      <td>...</td>\n",
       "      <td>...</td>\n",
       "      <td>...</td>\n",
       "      <td>...</td>\n",
       "    </tr>\n",
       "    <tr>\n",
       "      <th>886</th>\n",
       "      <td>0</td>\n",
       "      <td>male</td>\n",
       "      <td>2</td>\n",
       "      <td>0</td>\n",
       "      <td>27.0</td>\n",
       "    </tr>\n",
       "    <tr>\n",
       "      <th>887</th>\n",
       "      <td>1</td>\n",
       "      <td>female</td>\n",
       "      <td>1</td>\n",
       "      <td>0</td>\n",
       "      <td>19.0</td>\n",
       "    </tr>\n",
       "    <tr>\n",
       "      <th>888</th>\n",
       "      <td>0</td>\n",
       "      <td>female</td>\n",
       "      <td>3</td>\n",
       "      <td>1</td>\n",
       "      <td>30.0</td>\n",
       "    </tr>\n",
       "    <tr>\n",
       "      <th>889</th>\n",
       "      <td>1</td>\n",
       "      <td>male</td>\n",
       "      <td>1</td>\n",
       "      <td>0</td>\n",
       "      <td>26.0</td>\n",
       "    </tr>\n",
       "    <tr>\n",
       "      <th>890</th>\n",
       "      <td>0</td>\n",
       "      <td>male</td>\n",
       "      <td>3</td>\n",
       "      <td>0</td>\n",
       "      <td>32.0</td>\n",
       "    </tr>\n",
       "  </tbody>\n",
       "</table>\n",
       "<p>891 rows × 5 columns</p>\n",
       "</div>"
      ],
      "text/plain": [
       "     Survived     Sex  Pclass  SibSp   Age\n",
       "0           0    male       3      1  22.0\n",
       "1           1  female       1      1  38.0\n",
       "2           1  female       3      0  26.0\n",
       "3           1  female       1      1  35.0\n",
       "4           0    male       3      0  35.0\n",
       "..        ...     ...     ...    ...   ...\n",
       "886         0    male       2      0  27.0\n",
       "887         1  female       1      0  19.0\n",
       "888         0  female       3      1  30.0\n",
       "889         1    male       1      0  26.0\n",
       "890         0    male       3      0  32.0\n",
       "\n",
       "[891 rows x 5 columns]"
      ]
     },
     "execution_count": 46,
     "metadata": {},
     "output_type": "execute_result"
    }
   ],
   "source": [
    "ds_list[\"Age\"]= np.ceil(ds_list['Age'])\n",
    "ds_list"
   ]
  },
  {
   "cell_type": "markdown",
   "id": "a706201d",
   "metadata": {},
   "source": [
    "# Problems Statements"
   ]
  },
  {
   "cell_type": "markdown",
   "id": "a4c3870c",
   "metadata": {},
   "source": [
    "### 1. How many passengers survived and how many were killed (in number and %)"
   ]
  },
  {
   "cell_type": "code",
   "execution_count": 47,
   "id": "0d6cf942",
   "metadata": {
    "scrolled": true
   },
   "outputs": [
    {
     "data": {
      "text/html": [
       "<div>\n",
       "<style scoped>\n",
       "    .dataframe tbody tr th:only-of-type {\n",
       "        vertical-align: middle;\n",
       "    }\n",
       "\n",
       "    .dataframe tbody tr th {\n",
       "        vertical-align: top;\n",
       "    }\n",
       "\n",
       "    .dataframe thead th {\n",
       "        text-align: right;\n",
       "    }\n",
       "</style>\n",
       "<table border=\"1\" class=\"dataframe\">\n",
       "  <thead>\n",
       "    <tr style=\"text-align: right;\">\n",
       "      <th></th>\n",
       "      <th>Sex</th>\n",
       "      <th>Survived</th>\n",
       "    </tr>\n",
       "  </thead>\n",
       "  <tbody>\n",
       "    <tr>\n",
       "      <th>0</th>\n",
       "      <td>female</td>\n",
       "      <td>0.742038</td>\n",
       "    </tr>\n",
       "    <tr>\n",
       "      <th>1</th>\n",
       "      <td>male</td>\n",
       "      <td>0.188908</td>\n",
       "    </tr>\n",
       "  </tbody>\n",
       "</table>\n",
       "</div>"
      ],
      "text/plain": [
       "      Sex  Survived\n",
       "0  female  0.742038\n",
       "1    male  0.188908"
      ]
     },
     "execution_count": 47,
     "metadata": {},
     "output_type": "execute_result"
    }
   ],
   "source": [
    "sex_survival = ds[['Sex', 'Survived']].groupby('Sex', as_index= False).mean()\n",
    "sex_survival"
   ]
  },
  {
   "cell_type": "code",
   "execution_count": 48,
   "id": "c0e977b2",
   "metadata": {},
   "outputs": [
    {
     "name": "stdout",
     "output_type": "stream",
     "text": [
      "Total Survived:  342\n"
     ]
    }
   ],
   "source": [
    "total_survived= ds.Survived.sum()\n",
    "print (f\"Total Survived:  {total_survived}\")"
   ]
  },
  {
   "cell_type": "code",
   "execution_count": 51,
   "id": "995343b4",
   "metadata": {},
   "outputs": [
    {
     "name": "stdout",
     "output_type": "stream",
     "text": [
      "Total survived: 39.0 %\n"
     ]
    }
   ],
   "source": [
    "total_psgr = 891\n",
    "total_survived = 342\n",
    "in_percent = np.ceil(342/891*100)\n",
    "print(f\"Total survived: {in_percent} %\")"
   ]
  },
  {
   "cell_type": "code",
   "execution_count": 52,
   "id": "31f38805",
   "metadata": {},
   "outputs": [
    {
     "name": "stdout",
     "output_type": "stream",
     "text": [
      " Survived male:  109\n",
      " Dead male:  468\n",
      " Total male 577\n",
      "--------------------------------------------------\n",
      " Survived Female :  233\n",
      " Dead Female:  81\n",
      " Total Female 314\n",
      "--------------------------------------------------\n",
      "Total Survived: 342\n",
      "Total Died: 549\n"
     ]
    }
   ],
   "source": [
    "total_male=ds_list.Sex == 'male'\n",
    "survived_male = (ds_list['Survived'] == 1) & (ds_list.Sex == 'male')\n",
    "s_male = survived_male.sum()\n",
    "dead_male = (ds_list['Survived'] == 0) & (ds_list.Sex == 'male')\n",
    "d_male= dead_male.sum()\n",
    "\n",
    "\n",
    "print(f\" Survived male: \", s_male)\n",
    "print(f\" Dead male: \", d_male)\n",
    "print(f' Total male',total_male.sum())\n",
    "\n",
    "print(\"-\" *50)\n",
    "\n",
    "total_female = ds_list.Sex == 'female'\n",
    "survived_female = (ds_list['Survived'] == 1) & (ds_list.Sex == 'female')\n",
    "s_female = survived_female.sum()\n",
    "dead_female=(ds_list['Survived'] == 0) & (ds_list.Sex == 'female')\n",
    "d_female = dead_female.sum()\n",
    "\n",
    "\n",
    "print(f\" Survived Female : \", s_female)\n",
    "print(f\" Dead Female: \", d_female)\n",
    "print(f' Total Female', total_female.sum())\n",
    "\n",
    "print(\"-\" *50)\n",
    "\n",
    "total_survived2=s_male+s_female\n",
    "total_died2=d_male+ d_female\n",
    "\n",
    "print(f\"Total Survived: {total_survived2}\")\n",
    "print(f\"Total Died: {total_died2}\")"
   ]
  },
  {
   "cell_type": "markdown",
   "id": "aa644533",
   "metadata": {},
   "source": [
    "## Total Survived and Dead Passengers "
   ]
  },
  {
   "cell_type": "markdown",
   "id": "fa1df9fb",
   "metadata": {},
   "source": [
    "Making DataFrame of the above data"
   ]
  },
  {
   "cell_type": "code",
   "execution_count": 53,
   "id": "4af29c25",
   "metadata": {
    "scrolled": true
   },
   "outputs": [
    {
     "data": {
      "text/html": [
       "<div>\n",
       "<style scoped>\n",
       "    .dataframe tbody tr th:only-of-type {\n",
       "        vertical-align: middle;\n",
       "    }\n",
       "\n",
       "    .dataframe tbody tr th {\n",
       "        vertical-align: top;\n",
       "    }\n",
       "\n",
       "    .dataframe thead th {\n",
       "        text-align: right;\n",
       "    }\n",
       "</style>\n",
       "<table border=\"1\" class=\"dataframe\">\n",
       "  <thead>\n",
       "    <tr style=\"text-align: right;\">\n",
       "      <th></th>\n",
       "      <th>Passenger</th>\n",
       "      <th>Total Survived</th>\n",
       "      <th>Total Deaths</th>\n",
       "    </tr>\n",
       "  </thead>\n",
       "  <tbody>\n",
       "    <tr>\n",
       "      <th>1</th>\n",
       "      <td>Male</td>\n",
       "      <td>109</td>\n",
       "      <td>468</td>\n",
       "    </tr>\n",
       "    <tr>\n",
       "      <th>2</th>\n",
       "      <td>Female</td>\n",
       "      <td>233</td>\n",
       "      <td>81</td>\n",
       "    </tr>\n",
       "  </tbody>\n",
       "</table>\n",
       "</div>"
      ],
      "text/plain": [
       "  Passenger  Total Survived  Total Deaths\n",
       "1      Male             109           468\n",
       "2    Female             233            81"
      ]
     },
     "execution_count": 53,
     "metadata": {},
     "output_type": "execute_result"
    }
   ],
   "source": [
    "data1= { \"Passenger\": [\"Male\", \"Female\"], \"Total Survived\":[s_male,s_female ], \"Total Deaths\": [d_male,d_female ]}\n",
    "index= [1,2]\n",
    "ds1=pd.DataFrame(data1,index)\n",
    "ds1"
   ]
  },
  {
   "cell_type": "markdown",
   "id": "c2c87fec",
   "metadata": {},
   "source": [
    "## Passengers survived and how many were dead in Percentage %"
   ]
  },
  {
   "cell_type": "markdown",
   "id": "67eb9c2c",
   "metadata": {},
   "source": [
    "Finding the percentage of survived and dead passengers"
   ]
  },
  {
   "cell_type": "code",
   "execution_count": 54,
   "id": "adf122b3",
   "metadata": {},
   "outputs": [
    {
     "name": "stdout",
     "output_type": "stream",
     "text": [
      "Total Survived Male: 13.0 %\n",
      "Total Dead Male: 53.0 %\n",
      "Total Survived female: 27.0 %\n",
      "Total Dead female: 10.0 %\n"
     ]
    }
   ],
   "source": [
    "per1=s_male /total_psgr*100\n",
    "per1\n",
    "psm= np.ceil(per1)\n",
    "print(f\"Total Survived Male: {psm} %\" )\n",
    "\n",
    "per2=d_male /total_psgr*100\n",
    "per2\n",
    "pdm= np.ceil(per2)\n",
    "print(f\"Total Dead Male: {pdm} %\" )\n",
    "\n",
    "\n",
    "per3=s_female /total_psgr*100\n",
    "per3\n",
    "psf= np.ceil(per3)\n",
    "print(f\"Total Survived female: {psf} %\" )\n",
    "per4=d_female /total_psgr*100\n",
    "per4\n",
    "pdf= np.ceil(per4)\n",
    "print(f\"Total Dead female: {pdf} %\" )"
   ]
  },
  {
   "cell_type": "markdown",
   "id": "09712257",
   "metadata": {},
   "source": [
    "### Representing in Data Frame:"
   ]
  },
  {
   "cell_type": "code",
   "execution_count": 55,
   "id": "b1914ea9",
   "metadata": {},
   "outputs": [
    {
     "data": {
      "text/html": [
       "<div>\n",
       "<style scoped>\n",
       "    .dataframe tbody tr th:only-of-type {\n",
       "        vertical-align: middle;\n",
       "    }\n",
       "\n",
       "    .dataframe tbody tr th {\n",
       "        vertical-align: top;\n",
       "    }\n",
       "\n",
       "    .dataframe thead th {\n",
       "        text-align: right;\n",
       "    }\n",
       "</style>\n",
       "<table border=\"1\" class=\"dataframe\">\n",
       "  <thead>\n",
       "    <tr style=\"text-align: right;\">\n",
       "      <th></th>\n",
       "      <th>Passenger</th>\n",
       "      <th>Percentage (%)</th>\n",
       "    </tr>\n",
       "  </thead>\n",
       "  <tbody>\n",
       "    <tr>\n",
       "      <th>1</th>\n",
       "      <td>Survived Male</td>\n",
       "      <td>13.0</td>\n",
       "    </tr>\n",
       "    <tr>\n",
       "      <th>2</th>\n",
       "      <td>Dead Male</td>\n",
       "      <td>53.0</td>\n",
       "    </tr>\n",
       "    <tr>\n",
       "      <th>3</th>\n",
       "      <td>Survived Female</td>\n",
       "      <td>27.0</td>\n",
       "    </tr>\n",
       "    <tr>\n",
       "      <th>4</th>\n",
       "      <td>Dead Female</td>\n",
       "      <td>10.0</td>\n",
       "    </tr>\n",
       "  </tbody>\n",
       "</table>\n",
       "</div>"
      ],
      "text/plain": [
       "         Passenger  Percentage (%)\n",
       "1    Survived Male            13.0\n",
       "2        Dead Male            53.0\n",
       "3  Survived Female            27.0\n",
       "4      Dead Female            10.0"
      ]
     },
     "execution_count": 55,
     "metadata": {},
     "output_type": "execute_result"
    }
   ],
   "source": [
    "data= { \"Passenger\": [\"Survived Male\", \"Dead Male\",\"Survived Female\", \"Dead Female\" ], \"Percentage (%)\": [psm,pdm,psf,pdf]}\n",
    "index= [1,2,3,4]\n",
    "ds2=pd.DataFrame(data,index)\n",
    "ds2"
   ]
  },
  {
   "cell_type": "markdown",
   "id": "ae023cc2",
   "metadata": {},
   "source": [
    "## 2) does survival had anything to do with the gender? (Survival vs Gender)"
   ]
  },
  {
   "cell_type": "code",
   "execution_count": 56,
   "id": "dfa28bd8",
   "metadata": {},
   "outputs": [
    {
     "data": {
      "text/html": [
       "<div>\n",
       "<style scoped>\n",
       "    .dataframe tbody tr th:only-of-type {\n",
       "        vertical-align: middle;\n",
       "    }\n",
       "\n",
       "    .dataframe tbody tr th {\n",
       "        vertical-align: top;\n",
       "    }\n",
       "\n",
       "    .dataframe thead th {\n",
       "        text-align: right;\n",
       "    }\n",
       "</style>\n",
       "<table border=\"1\" class=\"dataframe\">\n",
       "  <thead>\n",
       "    <tr style=\"text-align: right;\">\n",
       "      <th></th>\n",
       "      <th>Passenger</th>\n",
       "      <th>Total</th>\n",
       "      <th>Percentage %</th>\n",
       "    </tr>\n",
       "  </thead>\n",
       "  <tbody>\n",
       "    <tr>\n",
       "      <th>1</th>\n",
       "      <td>Survived Male</td>\n",
       "      <td>109</td>\n",
       "      <td>13.0</td>\n",
       "    </tr>\n",
       "    <tr>\n",
       "      <th>2</th>\n",
       "      <td>Dead Male</td>\n",
       "      <td>468</td>\n",
       "      <td>53.0</td>\n",
       "    </tr>\n",
       "    <tr>\n",
       "      <th>3</th>\n",
       "      <td>Survived Female</td>\n",
       "      <td>233</td>\n",
       "      <td>27.0</td>\n",
       "    </tr>\n",
       "    <tr>\n",
       "      <th>4</th>\n",
       "      <td>Dead Female</td>\n",
       "      <td>81</td>\n",
       "      <td>10.0</td>\n",
       "    </tr>\n",
       "  </tbody>\n",
       "</table>\n",
       "</div>"
      ],
      "text/plain": [
       "         Passenger  Total  Percentage %\n",
       "1    Survived Male    109          13.0\n",
       "2        Dead Male    468          53.0\n",
       "3  Survived Female    233          27.0\n",
       "4      Dead Female     81          10.0"
      ]
     },
     "execution_count": 56,
     "metadata": {},
     "output_type": "execute_result"
    }
   ],
   "source": [
    "data3= { \"Passenger\": [\"Survived Male\", \"Dead Male\",\"Survived Female\", \"Dead Female\" ],\n",
    "        \"Total\": [ s_male, d_male, s_female, d_female], \"Percentage %\": [psm,pdm,psf,pdf]}\n",
    "index= [1,2,3,4]\n",
    "ds3=pd. DataFrame(data3,index)\n",
    "ds3"
   ]
  },
  {
   "cell_type": "markdown",
   "id": "12da8a97",
   "metadata": {},
   "source": [
    "### From the above analysis it can be concluded that Survival rate of female are greater than male"
   ]
  },
  {
   "cell_type": "markdown",
   "id": "6d5b4f7a",
   "metadata": {},
   "source": [
    "## 3) Does survival have anything to do with the class in which the passenger was traveling and who survived more 1st class passengers, 2nd class passengers or 3rd class passengers?\n"
   ]
  },
  {
   "cell_type": "markdown",
   "id": "a9e25886",
   "metadata": {},
   "source": [
    "### Pclass"
   ]
  },
  {
   "cell_type": "code",
   "execution_count": 57,
   "id": "77737d3c",
   "metadata": {},
   "outputs": [
    {
     "name": "stdout",
     "output_type": "stream",
     "text": [
      "Survival in class 1: 136\n",
      "Death in class 1:  80\n",
      "--------------------------------------------------\n",
      "Survival in class 2: 87\n",
      "Death in class 2: 97\n",
      "--------------------------------------------------\n",
      "Survival in class 3: 119 \n",
      "Death in class 2:  372\n"
     ]
    }
   ],
   "source": [
    "survival_in_Class1 = (ds_list['Survived']==1) & (ds_list['Pclass']==1)\n",
    "s_c1 = survival_in_Class1.sum()\n",
    "print(f\"Survival in class 1: {s_c1}\"  )\n",
    "ps_c1=s_c1/total_psgr*100\n",
    "ps_c1=np.ceil(ps_c1)\n",
    "dead_in_Class1 = (ds_list['Survived']==0) & (ds_list['Pclass']==1)\n",
    "d_c1= dead_in_Class1.sum()\n",
    "print(f\"Death in class 1:  {d_c1}\" )\n",
    "pd_c1=d_c1/total_psgr*100\n",
    "pd_c1=np.ceil(pd_c1)\n",
    "\n",
    "print(\"-\" *50)\n",
    "\n",
    "survival_in_Class2=(ds_list['Survived']==1) & (ds_list['Pclass']==2)\n",
    "s_c2 = survival_in_Class2.sum()\n",
    "ps_c2=s_c2/total_psgr*100\n",
    "ps_c2=np.ceil(ps_c2)\n",
    "print(f\"Survival in class 2: {s_c2}\" )\n",
    "dead_in_Class2=(ds_list['Survived']==0) & (ds_list['Pclass']==2)\n",
    "d_c2 = dead_in_Class2.sum()\n",
    "pd_c2=s_c2/total_psgr*100\n",
    "pd_c2=np.ceil(pd_c2)\n",
    "print(f\"Death in class 2: {d_c2}\" )\n",
    "\n",
    "print(\"-\" *50)\n",
    "\n",
    "survival_in_Class3=(ds_list['Survived']==1) & (ds_list['Pclass']==3)\n",
    "s_c3 = survival_in_Class3.sum()\n",
    "ps_c3=s_c3/total_psgr*100\n",
    "ps_c3=np.ceil(ps_c3)\n",
    "print( f\"Survival in class 3: {s_c3} \" )\n",
    "\n",
    "dead_in_Class3=(ds_list['Survived']==0) & (ds_list['Pclass']==3)\n",
    "d_c3 = dead_in_Class3.sum()\n",
    "pd_c3=d_c3/total_psgr*100\n",
    "pd_c3=np.ceil(pd_c3)\n",
    "\n",
    "print (f\"Death in class 2:  {d_c3}\" )"
   ]
  },
  {
   "cell_type": "markdown",
   "id": "abb9ea33",
   "metadata": {},
   "source": [
    "### Pclass 1 Passengers survived the most\n"
   ]
  },
  {
   "cell_type": "code",
   "execution_count": 58,
   "id": "bbec5921",
   "metadata": {},
   "outputs": [
    {
     "data": {
      "text/html": [
       "<div>\n",
       "<style scoped>\n",
       "    .dataframe tbody tr th:only-of-type {\n",
       "        vertical-align: middle;\n",
       "    }\n",
       "\n",
       "    .dataframe tbody tr th {\n",
       "        vertical-align: top;\n",
       "    }\n",
       "\n",
       "    .dataframe thead th {\n",
       "        text-align: right;\n",
       "    }\n",
       "</style>\n",
       "<table border=\"1\" class=\"dataframe\">\n",
       "  <thead>\n",
       "    <tr style=\"text-align: right;\">\n",
       "      <th></th>\n",
       "      <th>Pclass</th>\n",
       "      <th>Survived</th>\n",
       "      <th>Dead</th>\n",
       "      <th>Survived(%)</th>\n",
       "      <th>Dead(%)</th>\n",
       "    </tr>\n",
       "  </thead>\n",
       "  <tbody>\n",
       "    <tr>\n",
       "      <th>1</th>\n",
       "      <td>Class 1</td>\n",
       "      <td>136</td>\n",
       "      <td>80</td>\n",
       "      <td>16.0</td>\n",
       "      <td>9.0</td>\n",
       "    </tr>\n",
       "    <tr>\n",
       "      <th>2</th>\n",
       "      <td>Class 2</td>\n",
       "      <td>87</td>\n",
       "      <td>97</td>\n",
       "      <td>10.0</td>\n",
       "      <td>10.0</td>\n",
       "    </tr>\n",
       "    <tr>\n",
       "      <th>3</th>\n",
       "      <td>class 3</td>\n",
       "      <td>119</td>\n",
       "      <td>372</td>\n",
       "      <td>14.0</td>\n",
       "      <td>42.0</td>\n",
       "    </tr>\n",
       "  </tbody>\n",
       "</table>\n",
       "</div>"
      ],
      "text/plain": [
       "    Pclass  Survived  Dead  Survived(%)  Dead(%)\n",
       "1  Class 1       136    80         16.0      9.0\n",
       "2  Class 2        87    97         10.0     10.0\n",
       "3  class 3       119   372         14.0     42.0"
      ]
     },
     "execution_count": 58,
     "metadata": {},
     "output_type": "execute_result"
    }
   ],
   "source": [
    "data4= { \"Pclass\":[\"Class 1\",\"Class 2\",\"class 3\"],\"Survived\":[s_c1,s_c2, s_c3],\"Dead\": [d_c1,d_c2,d_c3 ],\"Survived(%)\": [ps_c1,ps_c2,ps_c3], \"Dead(%)\":[pd_c1,pd_c2,pd_c3]}\n",
    "index= [1,2,3]\n",
    "ds4=pd.DataFrame(data4,index)\n",
    "ds4"
   ]
  },
  {
   "cell_type": "markdown",
   "id": "cbafd2a3",
   "metadata": {},
   "source": [
    "### 4) Which age group, survived the most, kids (0-12), teen agers (13-19), youngsters (20-30), middle age people (31-50) or elders (50 and greater) ?"
   ]
  },
  {
   "cell_type": "code",
   "execution_count": 72,
   "id": "a0f9e252",
   "metadata": {},
   "outputs": [
    {
     "name": "stdout",
     "output_type": "stream",
     "text": [
      "Total kids( 0-12 years) survived :  39\n",
      "--------------------------------------------------\n",
      "Total Teen agers ( 13-19 years) survived : 28 \n",
      "--------------------------------------------------\n",
      "Total Survived Youngsters ( 20-30 years) are:  126\n",
      "--------------------------------------------------\n",
      "Total Survived Middle age (31-50 years) people are:  89\n",
      "--------------------------------------------------\n",
      "Total Survived elder(greater than 50 years) age people are:  22\n",
      "--------------------------------------------------\n"
     ]
    }
   ],
   "source": [
    "kidds = (ds.Survived == 1) & (ds.Age <12)\n",
    "kids= kidds.sum()\n",
    "print(f\"Total kids( 0-12 years) survived :  {kids}\" )\n",
    "print(\"-\" *50)\n",
    "\n",
    "teen_agrs = (ds.Survived == 1) & (ds.Age < 19) & (ds.Age > 13)\n",
    "teen_agers= teen_agrs.sum()\n",
    "print(f\"Total Teen agers ( 13-19 years) survived : {teen_agers} \")\n",
    "print(\"-\" *50)\n",
    "\n",
    "young_agers = (ds.Survived == 1) &  (ds.Age < 30) & (ds.Age > 20)\n",
    "youngsters = young_agers.sum() \n",
    "print(f\"Total Survived Youngsters ( 20-30 years) are:  {youngsters}\")\n",
    "\n",
    "print(\"-\" *50)\n",
    "\n",
    "mid_age = (ds.Survived == 1) & (ds.Age < 50) & (ds.Age > 31)\n",
    "middle_age = mid_age.sum()\n",
    "\n",
    "print(f\"Total Survived Middle age (31-50 years) people are:  {middle_age}\")\n",
    "\n",
    "print(\"-\" *50)\n",
    "\n",
    "elder_age = (ds.Survived == 1) & (ds.Age > 50)\n",
    "elders = elder_age.sum()\n",
    " \n",
    "print(f\"Total Survived elder(greater than 50 years) age people are:  {elders}\")\n",
    "\n",
    "print(\"-\" *50)\n",
    "\n",
    " "
   ]
  },
  {
   "cell_type": "markdown",
   "id": "c493c8e0",
   "metadata": {},
   "source": [
    "#### The results from the age group analysis show little Youngsters (20-30 years) had the highest chances of survival from all the other age groups. The lowest survival rate are observed for elder passengers"
   ]
  },
  {
   "cell_type": "markdown",
   "id": "94fe56a1",
   "metadata": {},
   "source": [
    "## 5) Which people survived the most, either those who were traveling with the family or those who were traveling alone?"
   ]
  },
  {
   "cell_type": "code",
   "execution_count": 73,
   "id": "98fb21ad",
   "metadata": {},
   "outputs": [
    {
     "data": {
      "text/html": [
       "<div>\n",
       "<style scoped>\n",
       "    .dataframe tbody tr th:only-of-type {\n",
       "        vertical-align: middle;\n",
       "    }\n",
       "\n",
       "    .dataframe tbody tr th {\n",
       "        vertical-align: top;\n",
       "    }\n",
       "\n",
       "    .dataframe thead th {\n",
       "        text-align: right;\n",
       "    }\n",
       "</style>\n",
       "<table border=\"1\" class=\"dataframe\">\n",
       "  <thead>\n",
       "    <tr style=\"text-align: right;\">\n",
       "      <th></th>\n",
       "      <th>SibSp</th>\n",
       "      <th>Survived</th>\n",
       "    </tr>\n",
       "  </thead>\n",
       "  <tbody>\n",
       "    <tr>\n",
       "      <th>0</th>\n",
       "      <td>0</td>\n",
       "      <td>0.345395</td>\n",
       "    </tr>\n",
       "    <tr>\n",
       "      <th>1</th>\n",
       "      <td>1</td>\n",
       "      <td>0.535885</td>\n",
       "    </tr>\n",
       "    <tr>\n",
       "      <th>2</th>\n",
       "      <td>2</td>\n",
       "      <td>0.464286</td>\n",
       "    </tr>\n",
       "    <tr>\n",
       "      <th>3</th>\n",
       "      <td>3</td>\n",
       "      <td>0.250000</td>\n",
       "    </tr>\n",
       "    <tr>\n",
       "      <th>4</th>\n",
       "      <td>4</td>\n",
       "      <td>0.166667</td>\n",
       "    </tr>\n",
       "    <tr>\n",
       "      <th>5</th>\n",
       "      <td>5</td>\n",
       "      <td>0.000000</td>\n",
       "    </tr>\n",
       "    <tr>\n",
       "      <th>6</th>\n",
       "      <td>8</td>\n",
       "      <td>0.000000</td>\n",
       "    </tr>\n",
       "  </tbody>\n",
       "</table>\n",
       "</div>"
      ],
      "text/plain": [
       "   SibSp  Survived\n",
       "0      0  0.345395\n",
       "1      1  0.535885\n",
       "2      2  0.464286\n",
       "3      3  0.250000\n",
       "4      4  0.166667\n",
       "5      5  0.000000\n",
       "6      8  0.000000"
      ]
     },
     "execution_count": 73,
     "metadata": {},
     "output_type": "execute_result"
    }
   ],
   "source": [
    "family_survival = ds[['SibSp', 'Survived']].groupby('SibSp',as_index=False).mean()\n",
    "family_survival"
   ]
  },
  {
   "cell_type": "markdown",
   "id": "ae35cbdd",
   "metadata": {},
   "source": [
    "#### From the above analysis it is shown that survival rate decrease as the family size increase upto 4, and then falls to zero."
   ]
  },
  {
   "cell_type": "markdown",
   "id": "2e6ba8b5",
   "metadata": {},
   "source": [
    "# 6) Finally compare the survival rate vs gender, class, age group, and family"
   ]
  },
  {
   "cell_type": "code",
   "execution_count": 74,
   "id": "59735a32",
   "metadata": {},
   "outputs": [
    {
     "name": "stdout",
     "output_type": "stream",
     "text": [
      "Genderwise survival Rate in Titanic\n",
      "The survival rate of male is:  13.0\n",
      "The survival rate of female is:  27.0\n",
      "--------------------------------------------------\n",
      "Passenger Classwise survival rate (%)\n",
      "The survival rate of class 1 is:  16.0\n",
      "The survival rate of class 2 is:  10.0\n",
      "The survival rate of class 3 is:  14.0\n",
      "--------------------------------------------------\n",
      "Age groupwise Survival rate (%)\n",
      "Total kids( 0-12 years) survived is:  5.0\n",
      "Total Teen agers ( 13-19 years) survived is:  4.0\n",
      "Total Survived Youngsters ( 20-30 years) are 15.0\n",
      "Total Survived Middle age (31-50 years) people are: 10.0\n",
      "Total Survived elder(greater than 50 years) age people are: 3.0\n",
      "--------------------------------------------------\n",
      "Family wise Survival rate (%)\n",
      "The survival with Family is: 3.0\n",
      "The survival without Family is: 13.0\n"
     ]
    }
   ],
   "source": [
    "print(f'Genderwise survival Rate in Titanic')\n",
    "print('The survival rate of male is: ', np.ceil((s_male/total_psgr*100)))\n",
    "print('The survival rate of female is: ', np.ceil((s_female/total_psgr*100)))\n",
    "print('-'*50)\n",
    "\n",
    "print('Passenger Classwise survival rate (%)')\n",
    "print('The survival rate of class 1 is: ', ps_c1)\n",
    "print('The survival rate of class 2 is: ', ps_c2)\n",
    "print('The survival rate of class 3 is: ', ps_c3)\n",
    "print('-'*50)\n",
    "\n",
    "print('Age groupwise Survival rate (%)')\n",
    "print(f\"Total kids( 0-12 years) survived is: \" , np.ceil(kids/total_psgr*100))\n",
    "print(f\"Total Teen agers ( 13-19 years) survived is: \", np.ceil(teen_agers/total_psgr*100))\n",
    "print(f\"Total Survived Youngsters ( 20-30 years) are\",  np.ceil(youngsters/total_psgr*100))\n",
    "print(f\"Total Survived Middle age (31-50 years) people are:\" , np.ceil(middle_age/total_psgr*100))\n",
    "print(f\"Total Survived elder(greater than 50 years) age people are:\",  np.ceil(elders/total_psgr*100))\n",
    "print('-'*50)\n",
    "\n",
    "print(f'Family wise Survival rate (%)')\n",
    "without_family=(ds_list['Survived']==1) & (ds_list['SibSp']==1)\n",
    "without_family=np.sum(without_family)\n",
    "with_family=(ds_list['Survived']==1) & (ds_list['SibSp']>1)\n",
    "with_family=np.sum(with_family)\n",
    "print('The survival with Family is:', np.ceil(with_family/total_psgr*100))\n",
    "print('The survival without Family is:', np.ceil(without_family/total_psgr*100))"
   ]
  },
  {
   "cell_type": "markdown",
   "id": "2e0e68f4",
   "metadata": {},
   "source": [
    "## Conclusions of the Analysis:\n",
    "- From my analysis of Titanic dataset it is concluded that, women had higher chances of survival.\n",
    "- The Class (Socio-Econominc status) of the passengers had played a vital role in their survival.So, class 1 had higher surival rate.\n",
    "- From age group, youngsterst (20-30) survived more than the other age groups.\n",
    "- Survival rates increase up to family sizes of 4 people and then falls for significantly for larger families.\n",
    "- passengers without family had higher rate of survival than passengers having families."
   ]
  },
  {
   "cell_type": "markdown",
   "id": "f5170561",
   "metadata": {},
   "source": [
    "$\\text{Thank you}$"
   ]
  }
 ],
 "metadata": {
  "kernelspec": {
   "display_name": "Python 3",
   "language": "python",
   "name": "python3"
  },
  "language_info": {
   "codemirror_mode": {
    "name": "ipython",
    "version": 3
   },
   "file_extension": ".py",
   "mimetype": "text/x-python",
   "name": "python",
   "nbconvert_exporter": "python",
   "pygments_lexer": "ipython3",
   "version": "3.8.8"
  }
 },
 "nbformat": 4,
 "nbformat_minor": 5
}
